{
 "cells": [
  {
   "cell_type": "code",
   "execution_count": null,
   "id": "bfa06cd3-6322-4c32-9a08-4e4ed9cf64d7",
   "metadata": {},
   "outputs": [],
   "source": [
    "secret = 4"
   ]
  },
  {
   "cell_type": "code",
   "execution_count": null,
   "id": "ef297648-4610-4046-ad3b-c30a95254ecd",
   "metadata": {},
   "outputs": [],
   "source": [
    "guess = 7"
   ]
  },
  {
   "cell_type": "code",
   "execution_count": null,
   "id": "c3ecbc11",
   "metadata": {},
   "outputs": [],
   "source": [
    "if guess > secret:\n",
    "    print(\"too high\")\n",
    "elif guess < secret:\n",
    "    print(\"too low\")\n",
    "else:\n",
    "    print(\"just right\")"
   ]
  }
 ],
 "metadata": {
  "kernelspec": {
   "display_name": "Python 3",
   "language": "python",
   "name": "python3"
  },
  "language_info": {
   "codemirror_mode": {
    "name": "ipython",
    "version": 3
   },
   "file_extension": ".py",
   "mimetype": "text/x-python",
   "name": "python",
   "nbconvert_exporter": "python",
   "pygments_lexer": "ipython3",
   "version": "3.13.2"
  }
 },
 "nbformat": 4,
 "nbformat_minor": 5
}
